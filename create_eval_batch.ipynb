{
 "cells": [
  {
   "cell_type": "code",
   "execution_count": 49,
   "metadata": {},
   "outputs": [],
   "source": [
    "config_names = [\n",
    "    \"4chan_meta_sep\",\n",
    "    \"c4_100_domains\",\n",
    "    \"c4_en\",\n",
    "    \"dolma_100_programing_languages\",\n",
    "    \"dolma_100_subreddits\",\n",
    "    \"dolma-v1_5\",\n",
    "    \"falcon-refinedweb\",\n",
    "    \"gab\",\n",
    "    \"m2d2_s2orc_unsplit\",\n",
    "    \"m2d2_wikipedia_unsplit\",\n",
    "    \"manosphere_meta_sep\",\n",
    "    \"mc4\",\n",
    "    \"ptb\",\n",
    "    \"redpajama\",\n",
    "    \"twitterAAE_HELM_fixed\",\n",
    "    \"wikitext_103\"\n",
    "]"
   ]
  },
  {
   "cell_type": "code",
   "execution_count": 38,
   "metadata": {},
   "outputs": [],
   "source": [
    "from datasets import load_dataset, Dataset\n",
    "import os"
   ]
  },
  {
   "cell_type": "code",
   "execution_count": 51,
   "metadata": {},
   "outputs": [
    {
     "data": {
      "application/vnd.jupyter.widget-view+json": {
       "model_id": "2d9c0e11876042a38c3651a5bbdb8ac1",
       "version_major": 2,
       "version_minor": 0
      },
      "text/plain": [
       "Resolving data files:   0%|          | 0/99 [00:00<?, ?it/s]"
      ]
     },
     "metadata": {},
     "output_type": "display_data"
    },
    {
     "data": {
      "application/vnd.jupyter.widget-view+json": {
       "model_id": "f86ca1e0d2204858b1cbb7ecc71fe14b",
       "version_major": 2,
       "version_minor": 0
      },
      "text/plain": [
       "Resolving data files:   0%|          | 0/99 [00:00<?, ?it/s]"
      ]
     },
     "metadata": {},
     "output_type": "display_data"
    },
    {
     "data": {
      "application/vnd.jupyter.widget-view+json": {
       "model_id": "bdb3664c7b7a4b71a0ce40dfb14f89ca",
       "version_major": 2,
       "version_minor": 0
      },
      "text/plain": [
       "Resolving data files:   0%|          | 0/100 [00:00<?, ?it/s]"
      ]
     },
     "metadata": {},
     "output_type": "display_data"
    },
    {
     "data": {
      "application/vnd.jupyter.widget-view+json": {
       "model_id": "6e32b108e5864fda8b9df1a0758ef92e",
       "version_major": 2,
       "version_minor": 0
      },
      "text/plain": [
       "Resolving data files:   0%|          | 0/100 [00:00<?, ?it/s]"
      ]
     },
     "metadata": {},
     "output_type": "display_data"
    },
    {
     "data": {
      "application/vnd.jupyter.widget-view+json": {
       "model_id": "b93e3dd8c2ad4a048bda7016eeb0190c",
       "version_major": 2,
       "version_minor": 0
      },
      "text/plain": [
       "Resolving data files:   0%|          | 0/100 [00:00<?, ?it/s]"
      ]
     },
     "metadata": {},
     "output_type": "display_data"
    },
    {
     "data": {
      "application/vnd.jupyter.widget-view+json": {
       "model_id": "c7b5fd8fc33e47d9961ab6add40bafd2",
       "version_major": 2,
       "version_minor": 0
      },
      "text/plain": [
       "Resolving data files:   0%|          | 0/100 [00:00<?, ?it/s]"
      ]
     },
     "metadata": {},
     "output_type": "display_data"
    },
    {
     "data": {
      "application/vnd.jupyter.widget-view+json": {
       "model_id": "03686495dfdb478eaac4e3b62b337213",
       "version_major": 2,
       "version_minor": 0
      },
      "text/plain": [
       "Resolving data files:   0%|          | 0/167 [00:00<?, ?it/s]"
      ]
     },
     "metadata": {},
     "output_type": "display_data"
    },
    {
     "data": {
      "application/vnd.jupyter.widget-view+json": {
       "model_id": "5cf921489b374d67bf5758f29916b74a",
       "version_major": 2,
       "version_minor": 0
      },
      "text/plain": [
       "Resolving data files:   0%|          | 0/167 [00:00<?, ?it/s]"
      ]
     },
     "metadata": {},
     "output_type": "display_data"
    },
    {
     "data": {
      "application/vnd.jupyter.widget-view+json": {
       "model_id": "7206fc529c5b4d1e833033b7f5f80c98",
       "version_major": 2,
       "version_minor": 0
      },
      "text/plain": [
       "Resolving data files:   0%|          | 0/49 [00:00<?, ?it/s]"
      ]
     },
     "metadata": {},
     "output_type": "display_data"
    },
    {
     "data": {
      "application/vnd.jupyter.widget-view+json": {
       "model_id": "e67984aae8124a3d8340276d05d0ce0a",
       "version_major": 2,
       "version_minor": 0
      },
      "text/plain": [
       "Resolving data files:   0%|          | 0/49 [00:00<?, ?it/s]"
      ]
     },
     "metadata": {},
     "output_type": "display_data"
    }
   ],
   "source": [
    "examples = []\n",
    "for config_name in config_names:\n",
    "    sub_dataset = load_dataset(\"allenai/paloma\", config_name, split='val', token=os.environ[\"HF_TOKEN\"])\n",
    "\n",
    "    shuffled_dataset = sub_dataset.shuffle(seed=42)  # Set seed for reproducibility\n",
    "    examples.extend(shuffled_dataset.select(range(min(10, len(shuffled_dataset)))))"
   ]
  },
  {
   "cell_type": "code",
   "execution_count": 52,
   "metadata": {},
   "outputs": [],
   "source": [
    "# shuffle examples\n",
    "import random\n",
    "random.shuffle(examples)"
   ]
  },
  {
   "cell_type": "code",
   "execution_count": 53,
   "metadata": {},
   "outputs": [],
   "source": [
    "from transformers import AutoTokenizer\n",
    "tokenizer = AutoTokenizer.from_pretrained(\"allenai/OLMo-7b-0724-hf\")"
   ]
  },
  {
   "cell_type": "code",
   "execution_count": 57,
   "metadata": {},
   "outputs": [
    {
     "name": "stderr",
     "output_type": "stream",
     "text": [
      "100%|██████████| 151/151 [00:10<00:00, 14.34it/s]\n"
     ]
    }
   ],
   "source": [
    "# Getting all of the tokens together \n",
    "chunk_size = 2048\n",
    "from tqdm import tqdm\n",
    "\n",
    "tokens = []\n",
    "for example in tqdm(examples):\n",
    "    _tokens = tokenizer.encode(example['text'])\n",
    "    _tokens.append(tokenizer.eos_token_id)\n",
    "    tokens.extend(_tokens)\n",
    "\n",
    "chunks = [tokens[i:i+chunk_size] for i in range(0, len(tokens), chunk_size)]\n",
    "\n",
    "if len(chunks[-1]) < chunk_size:\n",
    "    chunks = chunks[:-1]"
   ]
  },
  {
   "cell_type": "code",
   "execution_count": 58,
   "metadata": {},
   "outputs": [],
   "source": [
    "# shuffle chunks\n",
    "random.shuffle(chunks)"
   ]
  },
  {
   "cell_type": "code",
   "execution_count": 66,
   "metadata": {},
   "outputs": [],
   "source": [
    "# create a dataset from the first 1024 chunks \n",
    "dataset_data = chunks[:1024]\n",
    "\n",
    "dataset_dict = [\n",
    "    {\"input_ids\": chunk,\n",
    "     \"text\": tokenizer.decode(chunk)\n",
    "    } for chunk in dataset_data\n",
    "]\n",
    "\n",
    "dataset = Dataset.from_list(dataset_dict)"
   ]
  },
  {
   "cell_type": "code",
   "execution_count": 67,
   "metadata": {},
   "outputs": [
    {
     "data": {
      "application/vnd.jupyter.widget-view+json": {
       "model_id": "d1295cbf493744fda7f2972f4ed992ac",
       "version_major": 2,
       "version_minor": 0
      },
      "text/plain": [
       "Uploading the dataset shards:   0%|          | 0/1 [00:00<?, ?it/s]"
      ]
     },
     "metadata": {},
     "output_type": "display_data"
    },
    {
     "data": {
      "application/vnd.jupyter.widget-view+json": {
       "model_id": "e2992390f15949a093b3ce1f861070e8",
       "version_major": 2,
       "version_minor": 0
      },
      "text/plain": [
       "Creating parquet from Arrow format:   0%|          | 0/2 [00:00<?, ?ba/s]"
      ]
     },
     "metadata": {},
     "output_type": "display_data"
    },
    {
     "data": {
      "text/plain": [
       "CommitInfo(commit_url='https://huggingface.co/datasets/pico-lm/pretokenized-eval-batch/commit/e57e6b7d6694b9f8fd1a02a9b1339d03ff3fed76', commit_message='Upload dataset', commit_description='', oid='e57e6b7d6694b9f8fd1a02a9b1339d03ff3fed76', pr_url=None, repo_url=RepoUrl('https://huggingface.co/datasets/pico-lm/pretokenized-eval-batch', endpoint='https://huggingface.co', repo_type='dataset', repo_id='pico-lm/pretokenized-eval-batch'), pr_revision=None, pr_num=None)"
      ]
     },
     "execution_count": 67,
     "metadata": {},
     "output_type": "execute_result"
    }
   ],
   "source": [
    "# save to huggingface as a dataset\n",
    "dataset.push_to_hub(\"pico-lm/pretokenized-eval-batch\",  token=os.environ[\"HF_TOKEN\"], split=\"val\")\n"
   ]
  }
 ],
 "metadata": {
  "kernelspec": {
   "display_name": "pico-cIcIXNyN-py3.10",
   "language": "python",
   "name": "python3"
  },
  "language_info": {
   "codemirror_mode": {
    "name": "ipython",
    "version": 3
   },
   "file_extension": ".py",
   "mimetype": "text/x-python",
   "name": "python",
   "nbconvert_exporter": "python",
   "pygments_lexer": "ipython3",
   "version": "3.10.13"
  }
 },
 "nbformat": 4,
 "nbformat_minor": 2
}
